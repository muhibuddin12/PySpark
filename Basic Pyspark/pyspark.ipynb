{
 "cells": [
  {
   "cell_type": "code",
   "execution_count": 1,
   "id": "ac45a535-2885-4fc6-bbd1-8a059e1f0ebb",
   "metadata": {},
   "outputs": [],
   "source": [
    "import pyspark"
   ]
  },
  {
   "cell_type": "code",
   "execution_count": 2,
   "id": "ba375990-61f2-41dc-8508-043dbb11aa10",
   "metadata": {},
   "outputs": [],
   "source": [
    "from pyspark.sql import SparkSession"
   ]
  },
  {
   "cell_type": "code",
   "execution_count": 3,
   "id": "410c5d03-c004-4513-aa9a-ab78634e925c",
   "metadata": {},
   "outputs": [],
   "source": [
    "spark = SparkSession.builder.appName('Practise').getOrCreate()"
   ]
  },
  {
   "cell_type": "code",
   "execution_count": 4,
   "id": "74545cc4-23dd-4512-a024-ac568207b0d9",
   "metadata": {},
   "outputs": [
    {
     "data": {
      "text/html": [
       "\n",
       "            <div>\n",
       "                <p><b>SparkSession - in-memory</b></p>\n",
       "                \n",
       "        <div>\n",
       "            <p><b>SparkContext</b></p>\n",
       "\n",
       "            <p><a href=\"http://LAPTOP-2MVMB595:4040\">Spark UI</a></p>\n",
       "\n",
       "            <dl>\n",
       "              <dt>Version</dt>\n",
       "                <dd><code>v3.5.0</code></dd>\n",
       "              <dt>Master</dt>\n",
       "                <dd><code>local[*]</code></dd>\n",
       "              <dt>AppName</dt>\n",
       "                <dd><code>Practise</code></dd>\n",
       "            </dl>\n",
       "        </div>\n",
       "        \n",
       "            </div>\n",
       "        "
      ],
      "text/plain": [
       "<pyspark.sql.session.SparkSession at 0x1da10b4b680>"
      ]
     },
     "execution_count": 4,
     "metadata": {},
     "output_type": "execute_result"
    }
   ],
   "source": [
    "spark"
   ]
  },
  {
   "cell_type": "markdown",
   "id": "e93fd511-793d-4e01-b370-6635ae70bb43",
   "metadata": {},
   "source": [
    "## Read dataset"
   ]
  },
  {
   "cell_type": "code",
   "execution_count": 5,
   "id": "4ff4a111-8823-4d85-a5db-8740d05cf59d",
   "metadata": {},
   "outputs": [],
   "source": [
    "df_pyspark = spark.read.csv(\"/Muhibuddin/python_project/LearnPySpark/dataset/data_user.csv\",header=True,inferSchema=True)"
   ]
  },
  {
   "cell_type": "code",
   "execution_count": 6,
   "id": "8acf8ee1-6fb7-4974-bcb2-55193e3c9c62",
   "metadata": {},
   "outputs": [
    {
     "name": "stdout",
     "output_type": "stream",
     "text": [
      "+----------+---+----------+\n",
      "|      name|age|experience|\n",
      "+----------+---+----------+\n",
      "|Muhibuddin| 25|         2|\n",
      "|    Sumbul| 29|         6|\n",
      "| Syahdudin| 22|         3|\n",
      "|     Kenny| 16|         1|\n",
      "+----------+---+----------+\n",
      "\n"
     ]
    }
   ],
   "source": [
    "df_pyspark.show()"
   ]
  },
  {
   "cell_type": "code",
   "execution_count": 7,
   "id": "53dbe307-7e2d-4906-8d74-2768c9ca0ad0",
   "metadata": {},
   "outputs": [
    {
     "data": {
      "text/plain": [
       "pyspark.sql.dataframe.DataFrame"
      ]
     },
     "execution_count": 7,
     "metadata": {},
     "output_type": "execute_result"
    }
   ],
   "source": [
    "type(df_pyspark)"
   ]
  },
  {
   "cell_type": "markdown",
   "id": "7e0a618c-63cb-4046-b2fa-9a1859be879a",
   "metadata": {},
   "source": [
    "## Check Schema"
   ]
  },
  {
   "cell_type": "code",
   "execution_count": 8,
   "id": "82e6e7b6-5567-400e-a12d-288aeb81eec6",
   "metadata": {},
   "outputs": [
    {
     "name": "stdout",
     "output_type": "stream",
     "text": [
      "root\n",
      " |-- name: string (nullable = true)\n",
      " |-- age: integer (nullable = true)\n",
      " |-- experience: integer (nullable = true)\n",
      "\n"
     ]
    }
   ],
   "source": [
    "df_pyspark.printSchema()"
   ]
  },
  {
   "cell_type": "code",
   "execution_count": 9,
   "id": "8a6031a8-00cf-40e9-85fe-9e7cfccfcffa",
   "metadata": {},
   "outputs": [
    {
     "data": {
      "text/plain": [
       "4"
      ]
     },
     "execution_count": 9,
     "metadata": {},
     "output_type": "execute_result"
    }
   ],
   "source": [
    "df_pyspark.count()"
   ]
  },
  {
   "cell_type": "markdown",
   "id": "4bb51162-146b-4082-93ca-e43b677d0b0f",
   "metadata": {},
   "source": [
    "## Select data"
   ]
  },
  {
   "cell_type": "code",
   "execution_count": 10,
   "id": "be8b68a6-12df-47b1-be38-9adea4344ad3",
   "metadata": {},
   "outputs": [
    {
     "name": "stdout",
     "output_type": "stream",
     "text": [
      "+----------+---+\n",
      "|      name|age|\n",
      "+----------+---+\n",
      "|Muhibuddin| 25|\n",
      "|    Sumbul| 29|\n",
      "| Syahdudin| 22|\n",
      "|     Kenny| 16|\n",
      "+----------+---+\n",
      "\n"
     ]
    }
   ],
   "source": [
    "df_pyspark.select(['name','age']).show()"
   ]
  },
  {
   "cell_type": "code",
   "execution_count": 11,
   "id": "c8749c2d-4ec3-4f37-a644-d0b8ad9a66f2",
   "metadata": {},
   "outputs": [
    {
     "data": {
      "text/plain": [
       "[Row(name='Muhibuddin', age=25, experience=2),\n",
       " Row(name='Sumbul', age=29, experience=6)]"
      ]
     },
     "execution_count": 11,
     "metadata": {},
     "output_type": "execute_result"
    }
   ],
   "source": [
    "df_pyspark.head(2)"
   ]
  },
  {
   "cell_type": "code",
   "execution_count": 12,
   "id": "fbe1ff7c-c037-408f-bd34-1392be61f2a1",
   "metadata": {},
   "outputs": [],
   "source": [
    "### Add column\n",
    "df_pyspark = df_pyspark.withColumn(\"Experience After 5 year\",df_pyspark['experience']+5).withColumn('Age after 5 year',df_pyspark['age']+5)\n"
   ]
  },
  {
   "cell_type": "code",
   "execution_count": 13,
   "id": "7b81beda-4923-47f3-a81b-d9213ef76406",
   "metadata": {},
   "outputs": [
    {
     "name": "stdout",
     "output_type": "stream",
     "text": [
      "+----------+---+----------+-----------------------+----------------+\n",
      "|      name|age|experience|Experience After 5 year|Age after 5 year|\n",
      "+----------+---+----------+-----------------------+----------------+\n",
      "|Muhibuddin| 25|         2|                      7|              30|\n",
      "|    Sumbul| 29|         6|                     11|              34|\n",
      "| Syahdudin| 22|         3|                      8|              27|\n",
      "|     Kenny| 16|         1|                      6|              21|\n",
      "+----------+---+----------+-----------------------+----------------+\n",
      "\n"
     ]
    }
   ],
   "source": [
    "df_pyspark.show()"
   ]
  },
  {
   "cell_type": "code",
   "execution_count": 14,
   "id": "d8f4b523-edb9-4f5d-b521-9c9b91a6eddf",
   "metadata": {},
   "outputs": [],
   "source": [
    "## Drop column\n",
    "df_pyspark = df_pyspark.drop('Experience After 5 year')"
   ]
  },
  {
   "cell_type": "code",
   "execution_count": 15,
   "id": "d8e59612-16a6-4e8b-a59a-51fe1c90f1c8",
   "metadata": {},
   "outputs": [
    {
     "name": "stdout",
     "output_type": "stream",
     "text": [
      "+----------+---+----------+----------------+\n",
      "|      name|age|experience|Age after 5 year|\n",
      "+----------+---+----------+----------------+\n",
      "|Muhibuddin| 25|         2|              30|\n",
      "|    Sumbul| 29|         6|              34|\n",
      "| Syahdudin| 22|         3|              27|\n",
      "|     Kenny| 16|         1|              21|\n",
      "+----------+---+----------+----------------+\n",
      "\n"
     ]
    }
   ],
   "source": [
    "df_pyspark.show()"
   ]
  },
  {
   "cell_type": "code",
   "execution_count": 16,
   "id": "50e114e2-a8b5-45d3-bc8b-11e1586e5aec",
   "metadata": {},
   "outputs": [
    {
     "name": "stdout",
     "output_type": "stream",
     "text": [
      "+----------+---+----------+--------------------+\n",
      "|      name|age|experience|New Age after 5 year|\n",
      "+----------+---+----------+--------------------+\n",
      "|Muhibuddin| 25|         2|                  30|\n",
      "|    Sumbul| 29|         6|                  34|\n",
      "| Syahdudin| 22|         3|                  27|\n",
      "|     Kenny| 16|         1|                  21|\n",
      "+----------+---+----------+--------------------+\n",
      "\n"
     ]
    }
   ],
   "source": [
    "### Rename the column\n",
    "df_pyspark.withColumnRenamed(\"Age after 5 year\",\"New Age after 5 year\").show()"
   ]
  },
  {
   "cell_type": "markdown",
   "id": "b325b5d0-ccc5-447c-87e5-8c1e4328205e",
   "metadata": {},
   "source": [
    "### Pyspark handling missing valuesabs\n",
    "1. Dropping column\n",
    "2. Dropping rows\n",
    "3. Various Parameter in dropping functionalities\n",
    "4. Handling missing values by Mean, Median and Mode"
   ]
  },
  {
   "cell_type": "code",
   "execution_count": 17,
   "id": "008cb5c8-6be1-4f02-92a6-1650aa773c2f",
   "metadata": {},
   "outputs": [],
   "source": [
    "from pyspark.sql import SparkSession\n",
    "from pyspark.sql.functions import mean\n",
    "spark = SparkSession.builder.appName(\"BaruBelajar\").getOrCreate()"
   ]
  },
  {
   "cell_type": "code",
   "execution_count": 18,
   "id": "db92bbf8-113a-4d15-9c0c-48dbc5446495",
   "metadata": {},
   "outputs": [],
   "source": [
    "df_user = spark.read.csv(\"/Muhibuddin/python_project/LearnPySpark/dataset/data_user2.csv\",header=True,inferSchema=True)"
   ]
  },
  {
   "cell_type": "code",
   "execution_count": 19,
   "id": "ec520d78-3432-4477-93c5-c837120c17c6",
   "metadata": {},
   "outputs": [
    {
     "name": "stdout",
     "output_type": "stream",
     "text": [
      "root\n",
      " |-- name: string (nullable = true)\n",
      " |-- age: integer (nullable = true)\n",
      " |-- experience: integer (nullable = true)\n",
      " |-- salary: string (nullable = true)\n",
      "\n"
     ]
    }
   ],
   "source": [
    "df_user.printSchema()"
   ]
  },
  {
   "cell_type": "code",
   "execution_count": 20,
   "id": "23cf6b9d-a9d9-43d1-b49c-5b796fd13de3",
   "metadata": {},
   "outputs": [
    {
     "name": "stdout",
     "output_type": "stream",
     "text": [
      "+----------+----+----------+---------------+\n",
      "|      name| age|experience|         salary|\n",
      "+----------+----+----------+---------------+\n",
      "|Muhibuddin|  25|         2| 30,000,000.00 |\n",
      "|    Sumbul|  29|         6|  8,000,000.00 |\n",
      "| Syahdudin|  22|         3|  4,000,000.00 |\n",
      "|     Kenny|  16|         1|  3,500,000.00 |\n",
      "|  Suryanto|  27|         5|  6,000,000.00 |\n",
      "|     Yanti|  24|         3|  7,000,000.00 |\n",
      "|   Kartono|NULL|         3|  3,000,000.00 |\n",
      "|   Kartini|  43|        15| 40,000,000.00 |\n",
      "|      NULL|NULL|        14|  4,050,000.00 |\n",
      "|      NULL|  34|      NULL| 40,000,000.00 |\n",
      "+----------+----+----------+---------------+\n",
      "\n"
     ]
    }
   ],
   "source": [
    "df_user.show()"
   ]
  },
  {
   "cell_type": "code",
   "execution_count": 21,
   "id": "9b74f312-53e4-4737-8228-b1d79ad6babe",
   "metadata": {},
   "outputs": [
    {
     "name": "stdout",
     "output_type": "stream",
     "text": [
      "+----------+---+----------+---------------+\n",
      "|      name|age|experience|         salary|\n",
      "+----------+---+----------+---------------+\n",
      "|Muhibuddin| 25|         2| 30,000,000.00 |\n",
      "|    Sumbul| 29|         6|  8,000,000.00 |\n",
      "| Syahdudin| 22|         3|  4,000,000.00 |\n",
      "|     Kenny| 16|         1|  3,500,000.00 |\n",
      "|  Suryanto| 27|         5|  6,000,000.00 |\n",
      "|     Yanti| 24|         3|  7,000,000.00 |\n",
      "|   Kartono| 27|         3|  3,000,000.00 |\n",
      "|   Kartini| 43|        15| 40,000,000.00 |\n",
      "|      NULL| 27|        14|  4,050,000.00 |\n",
      "|      NULL| 34|      NULL| 40,000,000.00 |\n",
      "+----------+---+----------+---------------+\n",
      "\n"
     ]
    }
   ],
   "source": [
    "### fill na age column using mean of age\n",
    "average_age = df_user.select(mean('age')).collect()[0][0]\n",
    "\n",
    "df_user.fillna(average_age,subset=\"age\").show()"
   ]
  },
  {
   "cell_type": "code",
   "execution_count": 23,
   "id": "444bc276-0f0a-4c46-bac5-2a031129ae60",
   "metadata": {},
   "outputs": [],
   "source": [
    "## Fill na using ml\n",
    "from pyspark.ml.feature import Imputer\n",
    "\n",
    "imputer = Imputer(\n",
    "    inputCols=['age','experience'],\n",
    "    outputCols=[\"{}_imputed\".format(c) for c in ['age','experience']]\n",
    ").setStrategy(\"mean\")"
   ]
  },
  {
   "cell_type": "code",
   "execution_count": 24,
   "id": "55e7462a-2be5-407d-973e-8ef857f848ea",
   "metadata": {},
   "outputs": [
    {
     "name": "stdout",
     "output_type": "stream",
     "text": [
      "+----------+----+----------+---------------+-----------+------------------+\n",
      "|      name| age|experience|         salary|age_imputed|experience_imputed|\n",
      "+----------+----+----------+---------------+-----------+------------------+\n",
      "|Muhibuddin|  25|         2| 30,000,000.00 |         25|                 2|\n",
      "|    Sumbul|  29|         6|  8,000,000.00 |         29|                 6|\n",
      "| Syahdudin|  22|         3|  4,000,000.00 |         22|                 3|\n",
      "|     Kenny|  16|         1|  3,500,000.00 |         16|                 1|\n",
      "|  Suryanto|  27|         5|  6,000,000.00 |         27|                 5|\n",
      "|     Yanti|  24|         3|  7,000,000.00 |         24|                 3|\n",
      "|   Kartono|NULL|         3|  3,000,000.00 |         27|                 3|\n",
      "|   Kartini|  43|        15| 40,000,000.00 |         43|                15|\n",
      "|      NULL|NULL|        14|  4,050,000.00 |         27|                14|\n",
      "|      NULL|  34|      NULL| 40,000,000.00 |         34|                 5|\n",
      "+----------+----+----------+---------------+-----------+------------------+\n",
      "\n"
     ]
    }
   ],
   "source": [
    "imputer.fit(df_user).transform(df_user).show()\n"
   ]
  },
  {
   "cell_type": "code",
   "execution_count": 25,
   "id": "9c9cd8f0-80c4-43e9-99fa-d944712339b9",
   "metadata": {},
   "outputs": [
    {
     "name": "stdout",
     "output_type": "stream",
     "text": [
      "+--------+\n",
      "|avg(age)|\n",
      "+--------+\n",
      "|    27.5|\n",
      "+--------+\n",
      "\n"
     ]
    }
   ],
   "source": [
    "df_user.select(mean(\"age\")).show()"
   ]
  },
  {
   "cell_type": "code",
   "execution_count": 28,
   "id": "2a99d5a1-4d32-4e28-9013-25299ece7097",
   "metadata": {},
   "outputs": [
    {
     "name": "stdout",
     "output_type": "stream",
     "text": [
      "+----------+----+----------+---------------+\n",
      "|      name| age|experience|         salary|\n",
      "+----------+----+----------+---------------+\n",
      "|Muhibuddin|  25|         2| 30,000,000.00 |\n",
      "|    Sumbul|  29|         6|  8,000,000.00 |\n",
      "| Syahdudin|  22|         3|  4,000,000.00 |\n",
      "|     Kenny|  16|         1|  3,500,000.00 |\n",
      "|  Suryanto|  27|         5|  6,000,000.00 |\n",
      "|     Yanti|  24|         3|  7,000,000.00 |\n",
      "|   Kartono|NULL|         3|  3,000,000.00 |\n",
      "|   Kartini|  43|        15| 40,000,000.00 |\n",
      "|      NULL|NULL|        14|  4,050,000.00 |\n",
      "|      NULL|  34|      NULL| 40,000,000.00 |\n",
      "+----------+----+----------+---------------+\n",
      "\n"
     ]
    }
   ],
   "source": [
    "### Drop column \n",
    "## a row will be dropped only if all the values in that row are null\n",
    "df_user.na.drop(how=\"all\").show()"
   ]
  },
  {
   "cell_type": "code",
   "execution_count": 29,
   "id": "edab780b-2785-4cf5-a9ae-d9cd1b5569d5",
   "metadata": {},
   "outputs": [
    {
     "name": "stdout",
     "output_type": "stream",
     "text": [
      "+----------+---+----------+---------------+\n",
      "|      name|age|experience|         salary|\n",
      "+----------+---+----------+---------------+\n",
      "|Muhibuddin| 25|         2| 30,000,000.00 |\n",
      "|    Sumbul| 29|         6|  8,000,000.00 |\n",
      "| Syahdudin| 22|         3|  4,000,000.00 |\n",
      "|     Kenny| 16|         1|  3,500,000.00 |\n",
      "|  Suryanto| 27|         5|  6,000,000.00 |\n",
      "|     Yanti| 24|         3|  7,000,000.00 |\n",
      "|   Kartini| 43|        15| 40,000,000.00 |\n",
      "+----------+---+----------+---------------+\n",
      "\n"
     ]
    }
   ],
   "source": [
    "### Drop column\n",
    "# a row will be dropped if it contains at least one null value.\n",
    "df_user.na.drop(how=\"any\").show()"
   ]
  },
  {
   "cell_type": "code",
   "execution_count": 30,
   "id": "0b6a2058-1e47-4745-88c2-0a220b281230",
   "metadata": {},
   "outputs": [
    {
     "name": "stdout",
     "output_type": "stream",
     "text": [
      "+----------+----+----------+---------------+\n",
      "|      name| age|experience|         salary|\n",
      "+----------+----+----------+---------------+\n",
      "|Muhibuddin|  25|         2| 30,000,000.00 |\n",
      "|    Sumbul|  29|         6|  8,000,000.00 |\n",
      "| Syahdudin|  22|         3|  4,000,000.00 |\n",
      "|     Kenny|  16|         1|  3,500,000.00 |\n",
      "|  Suryanto|  27|         5|  6,000,000.00 |\n",
      "|     Yanti|  24|         3|  7,000,000.00 |\n",
      "|   Kartono|NULL|         3|  3,000,000.00 |\n",
      "|   Kartini|  43|        15| 40,000,000.00 |\n",
      "+----------+----+----------+---------------+\n",
      "\n"
     ]
    }
   ],
   "source": [
    "### Drop column with threshold \n",
    "## Rows are dropped only if they have less than or equal to 3 non-null values.\n",
    "df_user.na.drop(how=\"all\",thresh=3).show()"
   ]
  },
  {
   "cell_type": "markdown",
   "id": "13b5b6a0-a760-45da-9ba0-7b4a32dc6b82",
   "metadata": {},
   "source": [
    "### Pyspark Dataframes\n",
    "1. FIlter Operation\n",
    "2. &,|,==\n",
    "3. ~"
   ]
  },
  {
   "cell_type": "code",
   "execution_count": 54,
   "id": "2dbda95a-a6a3-413e-91be-1f22dca1da46",
   "metadata": {},
   "outputs": [],
   "source": [
    "from pyspark.sql import SparkSession\n",
    "from pyspark.sql.functions import *"
   ]
  },
  {
   "cell_type": "code",
   "execution_count": 32,
   "id": "87b19a4e-9180-4413-8ccb-ab7ed999fe12",
   "metadata": {},
   "outputs": [],
   "source": [
    "spark = SparkSession.builder.appName(\"Dataframe\").getOrCreate()"
   ]
  },
  {
   "cell_type": "code",
   "execution_count": 33,
   "id": "d6c34e63-8687-4f0b-862a-ed106f779093",
   "metadata": {},
   "outputs": [],
   "source": [
    "df_user = spark.read.csv(\"/Muhibuddin/python_project/LearnPySpark/dataset/data_user2.csv\",header=True,inferSchema=True)"
   ]
  },
  {
   "cell_type": "code",
   "execution_count": 34,
   "id": "9405fc9d-4da9-4282-92db-10cb794cc8eb",
   "metadata": {},
   "outputs": [
    {
     "name": "stdout",
     "output_type": "stream",
     "text": [
      "+----------+----+----------+---------------+\n",
      "|      name| age|experience|         salary|\n",
      "+----------+----+----------+---------------+\n",
      "|Muhibuddin|  25|         2| 30,000,000.00 |\n",
      "|    Sumbul|  29|         6|  8,000,000.00 |\n",
      "| Syahdudin|  22|         3|  4,000,000.00 |\n",
      "|     Kenny|  16|         1|  3,500,000.00 |\n",
      "|  Suryanto|  27|         5|  6,000,000.00 |\n",
      "|     Yanti|  24|         3|  7,000,000.00 |\n",
      "|   Kartono|NULL|         3|  3,000,000.00 |\n",
      "|   Kartini|  43|        15| 40,000,000.00 |\n",
      "|      NULL|NULL|        14|  4,050,000.00 |\n",
      "|      NULL|  34|      NULL| 40,000,000.00 |\n",
      "+----------+----+----------+---------------+\n",
      "\n"
     ]
    }
   ],
   "source": [
    "df_user.show()"
   ]
  },
  {
   "cell_type": "code",
   "execution_count": 35,
   "id": "fe5526d8-1c11-4b32-8c6b-0a2d59ae795b",
   "metadata": {},
   "outputs": [],
   "source": [
    "average_age = df_user.select(mean('age')).collect()[0][0]\n",
    "\n",
    "df_user = (df_user.dropna(subset=\"name\")).fillna(subset='age',value=average_age)"
   ]
  },
  {
   "cell_type": "code",
   "execution_count": 36,
   "id": "f0e99d4f-6633-4069-8a95-c8c358e7d827",
   "metadata": {},
   "outputs": [
    {
     "name": "stdout",
     "output_type": "stream",
     "text": [
      "+----------+---+----------+---------------+\n",
      "|      name|age|experience|         salary|\n",
      "+----------+---+----------+---------------+\n",
      "|Muhibuddin| 25|         2| 30,000,000.00 |\n",
      "|    Sumbul| 29|         6|  8,000,000.00 |\n",
      "| Syahdudin| 22|         3|  4,000,000.00 |\n",
      "|     Kenny| 16|         1|  3,500,000.00 |\n",
      "|  Suryanto| 27|         5|  6,000,000.00 |\n",
      "|     Yanti| 24|         3|  7,000,000.00 |\n",
      "|   Kartono| 27|         3|  3,000,000.00 |\n",
      "|   Kartini| 43|        15| 40,000,000.00 |\n",
      "+----------+---+----------+---------------+\n",
      "\n"
     ]
    }
   ],
   "source": [
    "df_user.show()"
   ]
  },
  {
   "cell_type": "code",
   "execution_count": 39,
   "id": "e1af0683-a3c4-4710-b3b7-9f1dae0cd226",
   "metadata": {},
   "outputs": [],
   "source": [
    "## Clean data\n",
    "\n",
    "df_user = df_user.withColumn('salary',regexp_replace(df_user['salary'], \",\", \"\").cast('int'))"
   ]
  },
  {
   "cell_type": "code",
   "execution_count": 41,
   "id": "f1d2401f-c661-471a-baf7-5ccdca9ed683",
   "metadata": {},
   "outputs": [
    {
     "name": "stdout",
     "output_type": "stream",
     "text": [
      "+----------+---+----------+--------+\n",
      "|      name|age|experience|  salary|\n",
      "+----------+---+----------+--------+\n",
      "|Muhibuddin| 25|         2|30000000|\n",
      "|    Sumbul| 29|         6| 8000000|\n",
      "| Syahdudin| 22|         3| 4000000|\n",
      "|     Kenny| 16|         1| 3500000|\n",
      "|  Suryanto| 27|         5| 6000000|\n",
      "|     Yanti| 24|         3| 7000000|\n",
      "|   Kartono| 27|         3| 3000000|\n",
      "|   Kartini| 43|        15|40000000|\n",
      "+----------+---+----------+--------+\n",
      "\n"
     ]
    }
   ],
   "source": [
    "df_user.show()"
   ]
  },
  {
   "cell_type": "markdown",
   "id": "7bbc8ffc-77ef-466a-ae6b-08b3d2eb1a04",
   "metadata": {},
   "source": [
    "## Filter Operations"
   ]
  },
  {
   "cell_type": "code",
   "execution_count": 42,
   "id": "f544d4e0-a528-4ddd-9b3f-faaee49bc4fd",
   "metadata": {},
   "outputs": [
    {
     "name": "stdout",
     "output_type": "stream",
     "text": [
      "+----------+--------+\n",
      "|      name|  salary|\n",
      "+----------+--------+\n",
      "|Muhibuddin|30000000|\n",
      "| Syahdudin| 4000000|\n",
      "|     Kenny| 3500000|\n",
      "|     Yanti| 7000000|\n",
      "|   Kartono| 3000000|\n",
      "+----------+--------+\n",
      "\n"
     ]
    }
   ],
   "source": [
    "df_user.filter(\"experience<=3\").select('name','salary').show()"
   ]
  },
  {
   "cell_type": "code",
   "execution_count": 43,
   "id": "d88ef9c5-91d6-407f-9e15-4c8e4bbe07c0",
   "metadata": {},
   "outputs": [
    {
     "name": "stdout",
     "output_type": "stream",
     "text": [
      "+----------+---+----------+--------+\n",
      "|      name|age|experience|  salary|\n",
      "+----------+---+----------+--------+\n",
      "|Muhibuddin| 25|         2|30000000|\n",
      "|   Kartini| 43|        15|40000000|\n",
      "+----------+---+----------+--------+\n",
      "\n"
     ]
    }
   ],
   "source": [
    "df_user.filter(df_user['salary']>=10000000).show()"
   ]
  },
  {
   "cell_type": "code",
   "execution_count": 44,
   "id": "c2bfe2ad-881d-495f-b7bd-e114daecb3da",
   "metadata": {},
   "outputs": [
    {
     "name": "stdout",
     "output_type": "stream",
     "text": [
      "+---------+---+----------+-------+\n",
      "|     name|age|experience| salary|\n",
      "+---------+---+----------+-------+\n",
      "|   Sumbul| 29|         6|8000000|\n",
      "|Syahdudin| 22|         3|4000000|\n",
      "| Suryanto| 27|         5|6000000|\n",
      "|    Yanti| 24|         3|7000000|\n",
      "|  Kartono| 27|         3|3000000|\n",
      "+---------+---+----------+-------+\n",
      "\n"
     ]
    }
   ],
   "source": [
    "## using &\n",
    "df_user.filter((df_user['age']>=20) & (df_user['salary']<=10000000)).show()"
   ]
  },
  {
   "cell_type": "code",
   "execution_count": 45,
   "id": "d240d61e-9a12-405c-a107-55684a677954",
   "metadata": {},
   "outputs": [
    {
     "name": "stdout",
     "output_type": "stream",
     "text": [
      "+----------+---+----------+--------+\n",
      "|      name|age|experience|  salary|\n",
      "+----------+---+----------+--------+\n",
      "|Muhibuddin| 25|         2|30000000|\n",
      "| Syahdudin| 22|         3| 4000000|\n",
      "|     Kenny| 16|         1| 3500000|\n",
      "|     Yanti| 24|         3| 7000000|\n",
      "|   Kartini| 43|        15|40000000|\n",
      "+----------+---+----------+--------+\n",
      "\n"
     ]
    }
   ],
   "source": [
    "## using | (or)\n",
    "\n",
    "df_user.filter((df_user['age']<25) | (df_user.salary >= 10000000)).show()"
   ]
  },
  {
   "cell_type": "code",
   "execution_count": 46,
   "id": "a1ef4474-8651-44bb-915e-204a490ded09",
   "metadata": {},
   "outputs": [
    {
     "name": "stdout",
     "output_type": "stream",
     "text": [
      "+----------+---+----------+--------+\n",
      "|      name|age|experience|  salary|\n",
      "+----------+---+----------+--------+\n",
      "|Muhibuddin| 25|         2|30000000|\n",
      "|    Sumbul| 29|         6| 8000000|\n",
      "|  Suryanto| 27|         5| 6000000|\n",
      "|   Kartono| 27|         3| 3000000|\n",
      "|   Kartini| 43|        15|40000000|\n",
      "+----------+---+----------+--------+\n",
      "\n"
     ]
    }
   ],
   "source": [
    "## using ~ (not)\n",
    "\n",
    "df_user.filter(~(df_user.age<25)).show()"
   ]
  },
  {
   "cell_type": "markdown",
   "id": "1a66c858-8219-49d8-8694-4f4c53d29e2d",
   "metadata": {},
   "source": [
    "### Pyspark Group by and Aggreagate Functions"
   ]
  },
  {
   "cell_type": "code",
   "execution_count": 47,
   "id": "9bce3fcd-2a92-433a-9630-66bbe33c64df",
   "metadata": {},
   "outputs": [],
   "source": [
    "from pyspark.sql import SparkSession\n",
    "from pyspark.sql.functions import sum\n",
    "spark = SparkSession.builder.appName(\"SparkLearn\").getOrCreate()"
   ]
  },
  {
   "cell_type": "code",
   "execution_count": 48,
   "id": "6af15867-1fdc-4a24-891e-7fa7518ff449",
   "metadata": {},
   "outputs": [],
   "source": [
    "df_user = spark.read.csv(\"/Muhibuddin/python_project/LearnPySpark/dataset/test3.csv\",header=True,inferSchema=True)"
   ]
  },
  {
   "cell_type": "code",
   "execution_count": 49,
   "id": "4c344c2e-0701-4674-824a-e94cdbc4e9a7",
   "metadata": {},
   "outputs": [
    {
     "name": "stdout",
     "output_type": "stream",
     "text": [
      "+---------+------------+------+\n",
      "|     Name| Departments|salary|\n",
      "+---------+------------+------+\n",
      "|    Krish|Data Science| 10000|\n",
      "|    Krish|         IOT|  5000|\n",
      "|   Mahesh|    Big Data|  4000|\n",
      "|    Krish|    Big Data|  4000|\n",
      "|   Mahesh|Data Science|  3000|\n",
      "|Sudhanshu|Data Science| 20000|\n",
      "|Sudhanshu|         IOT| 10000|\n",
      "|Sudhanshu|    Big Data|  5000|\n",
      "|    Sunny|Data Science| 10000|\n",
      "|    Sunny|    Big Data|  2000|\n",
      "+---------+------------+------+\n",
      "\n"
     ]
    }
   ],
   "source": [
    "df_user.show()"
   ]
  },
  {
   "cell_type": "code",
   "execution_count": 50,
   "id": "50d5f01d-da4f-4efc-88a3-0099dabc69c7",
   "metadata": {},
   "outputs": [
    {
     "name": "stdout",
     "output_type": "stream",
     "text": [
      "+---------+-----------+\n",
      "|     Name|sum(salary)|\n",
      "+---------+-----------+\n",
      "|Sudhanshu|      35000|\n",
      "|    Sunny|      12000|\n",
      "|    Krish|      19000|\n",
      "|   Mahesh|       7000|\n",
      "+---------+-----------+\n",
      "\n"
     ]
    }
   ],
   "source": [
    "## groupBy (name) column\n",
    "df_user.groupBy(\"Name\").sum().show()"
   ]
  },
  {
   "cell_type": "code",
   "execution_count": 51,
   "id": "e7c7ecc4-c9d1-4b06-98a4-1f68452ac7ce",
   "metadata": {},
   "outputs": [
    {
     "name": "stdout",
     "output_type": "stream",
     "text": [
      "+------------+-----------+\n",
      "| Departments|sum(salary)|\n",
      "+------------+-----------+\n",
      "|         IOT|      15000|\n",
      "|    Big Data|      15000|\n",
      "|Data Science|      43000|\n",
      "+------------+-----------+\n",
      "\n"
     ]
    }
   ],
   "source": [
    "## Group by departments which gives maximum salary\n",
    "df_user.groupBy(\"Departments\").sum().show()"
   ]
  },
  {
   "cell_type": "code",
   "execution_count": 52,
   "id": "6240321a-0414-4f3d-95ec-82e9e7ef89f7",
   "metadata": {},
   "outputs": [
    {
     "name": "stdout",
     "output_type": "stream",
     "text": [
      "+------------+-----------+\n",
      "| Departments|avg(salary)|\n",
      "+------------+-----------+\n",
      "|         IOT|     7500.0|\n",
      "|    Big Data|     3750.0|\n",
      "|Data Science|    10750.0|\n",
      "+------------+-----------+\n",
      "\n"
     ]
    }
   ],
   "source": [
    "## mean Agg\n",
    "df_user.groupBy(\"Departments\").mean().show()"
   ]
  },
  {
   "cell_type": "code",
   "execution_count": 55,
   "id": "73dbe420-1c97-410a-bdda-a8bfded83a65",
   "metadata": {},
   "outputs": [
    {
     "name": "stdout",
     "output_type": "stream",
     "text": [
      "+------------+------+----------+----------+\n",
      "| Departments|Salary|Avg Salary|Dept Count|\n",
      "+------------+------+----------+----------+\n",
      "|         IOT| 15000|    7500.0|         2|\n",
      "|    Big Data| 15000|    3750.0|         4|\n",
      "|Data Science| 43000|   10750.0|         4|\n",
      "+------------+------+----------+----------+\n",
      "\n"
     ]
    }
   ],
   "source": [
    "df_user.groupBy(\"Departments\").agg(\n",
    "    sum(\"salary\").alias(\"Salary\"),\n",
    "    avg(\"Salary\").alias(\"Avg Salary\"),\n",
    "    count(\"Departments\").alias(\"Dept Count\")\n",
    ").show()"
   ]
  },
  {
   "cell_type": "markdown",
   "id": "c914fc6e-939c-4bbb-b8b7-35f201f87475",
   "metadata": {},
   "source": [
    "## Tutorial 6\n",
    "### Example of pyspark ML"
   ]
  },
  {
   "cell_type": "code",
   "execution_count": 56,
   "id": "7d2268ce-20e5-4d8a-8196-6da1de116119",
   "metadata": {},
   "outputs": [
    {
     "data": {
      "text/html": [
       "\n",
       "            <div>\n",
       "                <p><b>SparkSession - in-memory</b></p>\n",
       "                \n",
       "        <div>\n",
       "            <p><b>SparkContext</b></p>\n",
       "\n",
       "            <p><a href=\"http://LAPTOP-2MVMB595:4040\">Spark UI</a></p>\n",
       "\n",
       "            <dl>\n",
       "              <dt>Version</dt>\n",
       "                <dd><code>v3.5.0</code></dd>\n",
       "              <dt>Master</dt>\n",
       "                <dd><code>local[*]</code></dd>\n",
       "              <dt>AppName</dt>\n",
       "                <dd><code>SparkML</code></dd>\n",
       "            </dl>\n",
       "        </div>\n",
       "        \n",
       "            </div>\n",
       "        "
      ],
      "text/plain": [
       "<pyspark.sql.session.SparkSession at 0x1da31be3f80>"
      ]
     },
     "execution_count": 56,
     "metadata": {},
     "output_type": "execute_result"
    }
   ],
   "source": [
    "from pyspark.sql import SparkSession\n",
    "spark.stop()\n",
    "spark = SparkSession.builder.appName(\"SparkML\").getOrCreate()\n",
    "spark"
   ]
  },
  {
   "cell_type": "code",
   "execution_count": 57,
   "id": "a3e867eb-0a30-4a52-a747-29486abe935e",
   "metadata": {},
   "outputs": [
    {
     "name": "stdout",
     "output_type": "stream",
     "text": [
      "root\n",
      " |-- Name: string (nullable = true)\n",
      " |-- age: integer (nullable = true)\n",
      " |-- Experience: integer (nullable = true)\n",
      " |-- Salary: integer (nullable = true)\n",
      "\n"
     ]
    }
   ],
   "source": [
    "## Read data training\n",
    "\n",
    "training = spark.read.csv(\"/Muhibuddin/python_project/LearnPySpark/dataset/test1.csv\", header=True, inferSchema=True)\n",
    "training.printSchema()"
   ]
  },
  {
   "cell_type": "code",
   "execution_count": 58,
   "id": "77f2bb54-89f9-4569-bb4d-4054fdefe28b",
   "metadata": {
    "scrolled": true
   },
   "outputs": [
    {
     "name": "stdout",
     "output_type": "stream",
     "text": [
      "+---------+---+----------+------+\n",
      "|     Name|age|Experience|Salary|\n",
      "+---------+---+----------+------+\n",
      "|    Krish| 31|        10| 30000|\n",
      "|Sudhanshu| 30|         8| 25000|\n",
      "|    Sunny| 29|         4| 20000|\n",
      "|     Paul| 24|         3| 20000|\n",
      "|   Harsha| 21|         1| 15000|\n",
      "|  Shubham| 23|         2| 18000|\n",
      "+---------+---+----------+------+\n",
      "\n"
     ]
    }
   ],
   "source": [
    "training.show()"
   ]
  },
  {
   "cell_type": "code",
   "execution_count": 59,
   "id": "cbe08b02-f3aa-4b39-8e45-747d3d15d242",
   "metadata": {},
   "outputs": [
    {
     "data": {
      "text/plain": [
       "['Name', 'age', 'Experience', 'Salary']"
      ]
     },
     "execution_count": 59,
     "metadata": {},
     "output_type": "execute_result"
    }
   ],
   "source": [
    "## show columns\n",
    "training.columns"
   ]
  },
  {
   "cell_type": "code",
   "execution_count": 60,
   "id": "11a62c4f-9c79-4264-9a81-6e254e8695f1",
   "metadata": {},
   "outputs": [],
   "source": [
    "from pyspark.ml.feature import VectorAssembler\n",
    "featureassembler = VectorAssembler(inputCols=[\"age\",\"Experience\"],outputCol=\"Independent Feture\")"
   ]
  },
  {
   "cell_type": "code",
   "execution_count": 61,
   "id": "3e745443-6594-4404-929c-786e4cada101",
   "metadata": {},
   "outputs": [],
   "source": [
    "output = featureassembler.transform(training)"
   ]
  },
  {
   "cell_type": "code",
   "execution_count": 62,
   "id": "2d599546-c8c9-492e-b684-e037c45e4f4f",
   "metadata": {},
   "outputs": [
    {
     "name": "stdout",
     "output_type": "stream",
     "text": [
      "+---------+---+----------+------+------------------+\n",
      "|     Name|age|Experience|Salary|Independent Feture|\n",
      "+---------+---+----------+------+------------------+\n",
      "|    Krish| 31|        10| 30000|       [31.0,10.0]|\n",
      "|Sudhanshu| 30|         8| 25000|        [30.0,8.0]|\n",
      "|    Sunny| 29|         4| 20000|        [29.0,4.0]|\n",
      "|     Paul| 24|         3| 20000|        [24.0,3.0]|\n",
      "|   Harsha| 21|         1| 15000|        [21.0,1.0]|\n",
      "|  Shubham| 23|         2| 18000|        [23.0,2.0]|\n",
      "+---------+---+----------+------+------------------+\n",
      "\n"
     ]
    }
   ],
   "source": [
    "output.show()"
   ]
  },
  {
   "cell_type": "code",
   "execution_count": 63,
   "id": "e2a950a6-61c9-4bef-bbb9-8c52a0a82864",
   "metadata": {},
   "outputs": [
    {
     "data": {
      "text/plain": [
       "['Name', 'age', 'Experience', 'Salary', 'Independent Feture']"
      ]
     },
     "execution_count": 63,
     "metadata": {},
     "output_type": "execute_result"
    }
   ],
   "source": [
    "output.columns"
   ]
  },
  {
   "cell_type": "code",
   "execution_count": 64,
   "id": "226b1deb-bb55-48b7-8678-60596a2e62a3",
   "metadata": {},
   "outputs": [],
   "source": [
    "finalized_data = output.select(\"Independent Feture\",\"Salary\")"
   ]
  },
  {
   "cell_type": "code",
   "execution_count": 65,
   "id": "15c10980-50fd-4844-afb1-5999af56ca63",
   "metadata": {},
   "outputs": [
    {
     "name": "stdout",
     "output_type": "stream",
     "text": [
      "+------------------+------+\n",
      "|Independent Feture|Salary|\n",
      "+------------------+------+\n",
      "|       [31.0,10.0]| 30000|\n",
      "|        [30.0,8.0]| 25000|\n",
      "|        [29.0,4.0]| 20000|\n",
      "|        [24.0,3.0]| 20000|\n",
      "|        [21.0,1.0]| 15000|\n",
      "|        [23.0,2.0]| 18000|\n",
      "+------------------+------+\n",
      "\n"
     ]
    }
   ],
   "source": [
    "finalized_data.show()"
   ]
  },
  {
   "cell_type": "code",
   "execution_count": 66,
   "id": "778b97d6-3a58-47ab-8621-02c88fcaefda",
   "metadata": {},
   "outputs": [],
   "source": [
    "## train data\n",
    "from pyspark.ml.regression import LinearRegression\n",
    "\n",
    "train_data, test_data = finalized_data.randomSplit([0.75,0.25])\n",
    "regressor = LinearRegression(featuresCol='Independent Feture', labelCol='Salary')\n",
    "regressor = regressor.fit(train_data)"
   ]
  },
  {
   "cell_type": "code",
   "execution_count": 67,
   "id": "a5efba86-13e9-41c1-ad5d-0bff30f0430b",
   "metadata": {},
   "outputs": [
    {
     "data": {
      "text/plain": [
       "DenseVector([5000.0, -5000.0])"
      ]
     },
     "execution_count": 67,
     "metadata": {},
     "output_type": "execute_result"
    }
   ],
   "source": [
    "### Coefficients\n",
    "\n",
    "regressor.coefficients"
   ]
  },
  {
   "cell_type": "code",
   "execution_count": 68,
   "id": "b832db47-49d7-41e5-96bd-809cf986e813",
   "metadata": {},
   "outputs": [
    {
     "data": {
      "text/plain": [
       "-84999.9999995608"
      ]
     },
     "execution_count": 68,
     "metadata": {},
     "output_type": "execute_result"
    }
   ],
   "source": [
    "## Intercept\n",
    "regressor.intercept"
   ]
  },
  {
   "cell_type": "code",
   "execution_count": 69,
   "id": "5aafde60-a79f-4360-94f7-f032713b47a3",
   "metadata": {},
   "outputs": [],
   "source": [
    "## prediction\n",
    "pred_results = regressor.evaluate(test_data)"
   ]
  },
  {
   "cell_type": "code",
   "execution_count": 70,
   "id": "29313566-dc17-4101-8d19-ad8bd659d76c",
   "metadata": {},
   "outputs": [
    {
     "name": "stdout",
     "output_type": "stream",
     "text": [
      "+------------------+------+------------------+\n",
      "|Independent Feture|Salary|        prediction|\n",
      "+------------------+------+------------------+\n",
      "|        [23.0,2.0]| 18000|19999.999999988155|\n",
      "|        [29.0,4.0]| 20000|39999.999999911844|\n",
      "|       [31.0,10.0]| 30000|20000.000000035623|\n",
      "+------------------+------+------------------+\n",
      "\n"
     ]
    }
   ],
   "source": [
    "pred_results.predictions.show()"
   ]
  },
  {
   "cell_type": "code",
   "execution_count": 71,
   "id": "d59f3a6f-efdb-4675-9d8c-c80aa2a80b3f",
   "metadata": {},
   "outputs": [
    {
     "data": {
      "text/plain": [
       "(10666.666666621459, 167999999.99857134)"
      ]
     },
     "execution_count": 71,
     "metadata": {},
     "output_type": "execute_result"
    }
   ],
   "source": [
    "pred_results.meanAbsoluteError,pred_results.meanSquaredError"
   ]
  }
 ],
 "metadata": {
  "kernelspec": {
   "display_name": "Python 3 (ipykernel)",
   "language": "python",
   "name": "python3"
  },
  "language_info": {
   "codemirror_mode": {
    "name": "ipython",
    "version": 3
   },
   "file_extension": ".py",
   "mimetype": "text/x-python",
   "name": "python",
   "nbconvert_exporter": "python",
   "pygments_lexer": "ipython3",
   "version": "3.12.0"
  }
 },
 "nbformat": 4,
 "nbformat_minor": 5
}
